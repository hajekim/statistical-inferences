{
 "cells": [
  {
   "cell_type": "markdown",
   "metadata": {},
   "source": [
    "### R Data manipulation ... \n",
    "\n",
    "http://garrettgman.github.io/tidying/\n",
    "\n",
    "http://cyberhelp.sesync.org/data-manipulation-in-R-lesson/2016/07/26/\n",
    "\n",
    "https://www.tidyverse.org/"
   ]
  },
  {
   "cell_type": "markdown",
   "metadata": {},
   "source": [
    "<img src=\"images/tidy-data.jpeg\" width=\"50%\">"
   ]
  },
  {
   "cell_type": "code",
   "execution_count": 1,
   "metadata": {
    "collapsed": true
   },
   "outputs": [],
   "source": [
    "x <- c( 50, 35, 15, 75, 120, 80, 40, 65)\n",
    "y <- c('A','C','B','A','D','C','B','D')\n",
    "z <- c('1', '0', '1', '0', '1', '1','0','0' )"
   ]
  },
  {
   "cell_type": "code",
   "execution_count": 3,
   "metadata": {
    "collapsed": true
   },
   "outputs": [],
   "source": [
    "idf <- data.frame( \"Count\" = x, \"VarName\" = y, \"B1\" =z)"
   ]
  },
  {
   "cell_type": "code",
   "execution_count": 5,
   "metadata": {},
   "outputs": [
    {
     "data": {
      "text/html": [
       "<table>\n",
       "<thead><tr><th scope=col>Count</th><th scope=col>VarName</th><th scope=col>B1</th></tr></thead>\n",
       "<tbody>\n",
       "\t<tr><td> 50</td><td>A  </td><td>1  </td></tr>\n",
       "\t<tr><td> 35</td><td>C  </td><td>0  </td></tr>\n",
       "\t<tr><td> 15</td><td>B  </td><td>1  </td></tr>\n",
       "\t<tr><td> 75</td><td>A  </td><td>0  </td></tr>\n",
       "\t<tr><td>120</td><td>D  </td><td>1  </td></tr>\n",
       "\t<tr><td> 80</td><td>C  </td><td>1  </td></tr>\n",
       "\t<tr><td> 40</td><td>B  </td><td>0  </td></tr>\n",
       "\t<tr><td> 65</td><td>D  </td><td>0  </td></tr>\n",
       "</tbody>\n",
       "</table>\n"
      ],
      "text/latex": [
       "\\begin{tabular}{r|lll}\n",
       " Count & VarName & B1\\\\\n",
       "\\hline\n",
       "\t  50 & A   & 1  \\\\\n",
       "\t  35 & C   & 0  \\\\\n",
       "\t  15 & B   & 1  \\\\\n",
       "\t  75 & A   & 0  \\\\\n",
       "\t 120 & D   & 1  \\\\\n",
       "\t  80 & C   & 1  \\\\\n",
       "\t  40 & B   & 0  \\\\\n",
       "\t  65 & D   & 0  \\\\\n",
       "\\end{tabular}\n"
      ],
      "text/markdown": [
       "\n",
       "Count | VarName | B1 | \n",
       "|---|---|---|---|---|---|---|---|\n",
       "|  50 | A   | 1   | \n",
       "|  35 | C   | 0   | \n",
       "|  15 | B   | 1   | \n",
       "|  75 | A   | 0   | \n",
       "| 120 | D   | 1   | \n",
       "|  80 | C   | 1   | \n",
       "|  40 | B   | 0   | \n",
       "|  65 | D   | 0   | \n",
       "\n",
       "\n"
      ],
      "text/plain": [
       "  Count VarName B1\n",
       "1  50   A       1 \n",
       "2  35   C       0 \n",
       "3  15   B       1 \n",
       "4  75   A       0 \n",
       "5 120   D       1 \n",
       "6  80   C       1 \n",
       "7  40   B       0 \n",
       "8  65   D       0 "
      ]
     },
     "metadata": {},
     "output_type": "display_data"
    }
   ],
   "source": [
    "idf"
   ]
  },
  {
   "cell_type": "code",
   "execution_count": 6,
   "metadata": {},
   "outputs": [
    {
     "data": {
      "text/html": [
       "<table>\n",
       "<thead><tr><th scope=col>B1</th><th scope=col>A</th><th scope=col>B</th><th scope=col>C</th><th scope=col>D</th></tr></thead>\n",
       "<tbody>\n",
       "\t<tr><td>0  </td><td>75 </td><td>40 </td><td>35 </td><td> 65</td></tr>\n",
       "\t<tr><td>1  </td><td>50 </td><td>15 </td><td>80 </td><td>120</td></tr>\n",
       "</tbody>\n",
       "</table>\n"
      ],
      "text/latex": [
       "\\begin{tabular}{r|lllll}\n",
       " B1 & A & B & C & D\\\\\n",
       "\\hline\n",
       "\t 0   & 75  & 40  & 35  &  65\\\\\n",
       "\t 1   & 50  & 15  & 80  & 120\\\\\n",
       "\\end{tabular}\n"
      ],
      "text/markdown": [
       "\n",
       "B1 | A | B | C | D | \n",
       "|---|---|\n",
       "| 0   | 75  | 40  | 35  |  65 | \n",
       "| 1   | 50  | 15  | 80  | 120 | \n",
       "\n",
       "\n"
      ],
      "text/plain": [
       "  B1 A  B  C  D  \n",
       "1 0  75 40 35  65\n",
       "2 1  50 15 80 120"
      ]
     },
     "metadata": {},
     "output_type": "display_data"
    }
   ],
   "source": [
    "library(tidyr)\n",
    "counts_spread <- spread(idf, VarName, Count)\n",
    "counts_spread"
   ]
  },
  {
   "cell_type": "code",
   "execution_count": null,
   "metadata": {
    "collapsed": true
   },
   "outputs": [],
   "source": []
  },
  {
   "cell_type": "code",
   "execution_count": null,
   "metadata": {
    "collapsed": true
   },
   "outputs": [],
   "source": []
  },
  {
   "cell_type": "code",
   "execution_count": null,
   "metadata": {
    "collapsed": true
   },
   "outputs": [],
   "source": []
  },
  {
   "cell_type": "code",
   "execution_count": null,
   "metadata": {
    "collapsed": true
   },
   "outputs": [],
   "source": []
  },
  {
   "cell_type": "code",
   "execution_count": null,
   "metadata": {
    "collapsed": true
   },
   "outputs": [],
   "source": []
  },
  {
   "cell_type": "code",
   "execution_count": null,
   "metadata": {
    "collapsed": true
   },
   "outputs": [],
   "source": []
  },
  {
   "cell_type": "code",
   "execution_count": null,
   "metadata": {
    "collapsed": true
   },
   "outputs": [],
   "source": []
  }
 ],
 "metadata": {
  "kernelspec": {
   "display_name": "R",
   "language": "R",
   "name": "ir"
  },
  "language_info": {
   "codemirror_mode": "r",
   "file_extension": ".r",
   "mimetype": "text/x-r-source",
   "name": "R",
   "pygments_lexer": "r",
   "version": "3.3.2"
  }
 },
 "nbformat": 4,
 "nbformat_minor": 2
}
